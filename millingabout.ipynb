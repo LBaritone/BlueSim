{
 "cells": [
  {
   "cell_type": "markdown",
   "metadata": {},
   "source": [
    "# This Notebook Simulates and Animates Milling About"
   ]
  },
  {
   "cell_type": "markdown",
   "metadata": {},
   "source": [
    "## Required Imports"
   ]
  },
  {
   "cell_type": "code",
   "execution_count": 113,
   "metadata": {},
   "outputs": [
    {
     "name": "stdout",
     "output_type": "stream",
     "text": [
      "The autoreload extension is already loaded. To reload it, use:\n",
      "  %reload_ext autoreload\n"
     ]
    }
   ],
   "source": [
    "%load_ext autoreload\n",
    "%autoreload 2\n",
    "\n",
    "import math\n",
    "import numpy as np\n",
    "\n",
    "from fish import Fish\n",
    "\n",
    "from variables import Variables\n",
    "from camera import Camera\n",
    "\n",
    "from interaction import Interaction\n",
    "from environment import Environment\n",
    "from channel import Channel\n",
    "from observer import Observer\n",
    "from dynamics import Dynamics\n",
    "\n",
    "from utils import generate_distortion, generate_fish, run_simulation, run_simulation_with_coverage"
   ]
  },
  {
   "cell_type": "markdown",
   "metadata": {},
   "source": [
    "## Simulation of Milling About\n",
    "\n",
    "Change parameters here, e.g. number of fish or initializations."
   ]
  },
  {
   "cell_type": "code",
   "execution_count": 114,
   "metadata": {
    "scrolled": true
   },
   "outputs": [
    {
     "name": "stdout",
     "output_type": "stream",
     "text": [
      "400\n",
      "Please wait patiently 90 seconds. Thanks.\n"
     ]
    },
    {
     "name": "stderr",
     "output_type": "stream",
     "text": [
      "/Users/lucas/OneDrive - Harvard University/Senior/Fall/CS289/BlueSim-master/camera.py:37: RuntimeWarning: invalid value encountered in true_divide\n",
      "  x_c_left = x_c / np.linalg.norm(x_c)\n",
      "/anaconda3/lib/python3.6/site-packages/numpy/linalg/linalg.py:1804: RuntimeWarning: invalid value encountered in det\n",
      "  r = _umath_linalg.det(a, signature=signature)\n"
     ]
    },
    {
     "name": "stdout",
     "output_type": "stream",
     "text": [
      "slots [  6.  13.   6.  10.   6.  11.   9.   6.   4.   7.   8.  12.   9.  10.   6.\n",
      "  12.   9.   6.   4.   7.   8.  12.   9.  10.   6.  12.  10.   6.   4.   7.\n",
      "   8.  11.   9.  10.   6.  12.  10.   6.   4.   7.   8.  11.  10.  10.   6.\n",
      "  12.  10.   6.   4.   7.   9.  11.   9.  10.   6.  12.  10.   6.   4.   7.\n",
      "   9.  11.   9.  10.   6.  12.   9.   6.   4.   7.   9.  11.   9.  10.   6.\n",
      "  12.   9.   5.   5.   7.   9.  13.   9.  11.   6.  12.   9.   5.   3.   7.\n",
      "  10.  13.   9.  11.   6.  12.   9.   5.   3.   7.   2.   4.  20.   6.   7.\n",
      "  18.   6.   6.   4.  11.   2.   4.  20.   6.   7.  18.   6.   6.   4.  11.\n",
      "   2.   4.  21.   6.   7.  17.   6.   6.   4.  11.   3.   4.  21.   6.   7.\n",
      "  17.   6.   6.   4.  11.   3.   5.  21.   6.   7.  16.   6.   6.   4.  11.\n",
      "   3.   5.  21.   6.   7.  16.   6.   6.   4.  11.   3.   5.  21.   6.   7.\n",
      "  17.   7.   6.   4.  10.   3.   5.  22.   7.   7.  17.   7.   6.   4.  10.\n",
      "   3.   5.  22.   7.   7.  17.   7.   6.   4.  10.   3.   5.  22.   7.   7.\n",
      "  17.   8.   6.   4.  10.  10.   2.   5.   4.   5.   4.   9.   9.   2.   3.\n",
      "  10.   2.   5.   4.   5.   4.   9.   9.   2.   3.  10.   2.   5.   4.   5.\n",
      "   3.   9.   9.   2.   3.  10.   2.   5.   4.   5.   3.   9.   9.   2.   3.\n",
      "  10.   2.   5.   4.   5.   3.   9.   9.   2.   3.  10.   2.   5.   4.   5.\n",
      "   3.   9.   9.   2.   3.  10.   2.   5.   4.   5.   3.   9.   9.   2.   3.\n",
      "  10.   2.   6.   4.   5.   3.   9.   9.   2.   3.  10.   2.   6.   4.   5.\n",
      "   3.   8.   9.   2.   3.  10.   3.   6.   4.   5.   3.   8.   9.   2.   3.\n",
      "   5.   2.   9.   7.   9.   3.  11.   5.   6.   9.   5.   2.   9.   7.   9.\n",
      "   3.  11.   5.   6.   9.   5.   2.   9.   7.   8.   3.  11.   5.   6.   9.\n",
      "   5.   3.   9.   7.   8.   3.  11.   6.   6.   9.   6.   1.   8.   7.   8.\n",
      "   3.  11.   6.   6.   9.   6.   1.   8.   7.   8.   3.  11.   7.   6.   9.\n",
      "   6.   1.   8.   7.   8.   3.  11.   6.   6.   9.   6.   1.   8.   7.   8.\n",
      "   3.  11.   6.   6.   9.   6.   1.   8.   7.   8.   2.  11.   6.   6.   9.\n",
      "   6.   1.   8.   7.   8.   2.  11.   6.   6.  10.]\n",
      "It's time to say bye bye!\n"
     ]
    }
   ],
   "source": [
    "from events import Homing\n",
    "\n",
    "run_time = 90 # in seconds\n",
    "num_fish = 5\n",
    "arena_size = np.array([1780, 1780, 1170])\n",
    "res = 10\n",
    "camera_depth = 20\n",
    "focal_1, focal_2 = 0.4, 0.4\n",
    "arena_center = arena_size / 2.0\n",
    "initial_spread = 2000\n",
    "fish_pos = initial_spread * np.random.rand(num_fish, 3) + arena_center - initial_spread / 2.0\n",
    "fish_vel = np.zeros((num_fish, 3))\n",
    "fish_phi = math.pi * np.random.rand(num_fish, 1)\n",
    "fish_vphi = np.zeros((num_fish, 1))\n",
    "clock_freqs = 1\n",
    "verbose = False\n",
    "\n",
    "distortion = generate_distortion(type='none', magnitude=130, n=math.ceil(arena_size[0]/10)+1, show=False)\n",
    "environment = Environment(\n",
    "    arena_size=arena_size,\n",
    "    node_pos=fish_pos,\n",
    "    node_vel=fish_vel,\n",
    "    node_phi=fish_phi,\n",
    "    node_vphi=fish_vphi,\n",
    "    distortion=distortion,\n",
    "    prob_type='binary',\n",
    "    conn_thres=3000,\n",
    "    conn_drop=1,\n",
    "    noise_magnitude=10,\n",
    "    verbose=verbose\n",
    ")\n",
    "interaction = Interaction(environment, verbose=verbose)\n",
    "channel = Channel(environment)\n",
    "dynamics = Dynamics(environment, clock_freq=clock_freqs)\n",
    "variables = Variables()\n",
    "camera = Camera(camera_depth, focal_1, focal_2)\n",
    "\n",
    "fish = generate_fish(\n",
    "    n=num_fish, \n",
    "    channel=channel, \n",
    "    interaction=interaction,\n",
    "    dynamics=dynamics,\n",
    "    variables=variables,\n",
    "    camera=camera,\n",
    "    res=res,\n",
    "    w_blindspot=50,\n",
    "    r_blocking=65,\n",
    "    target_dist=130*1.75,\n",
    "    lim_neighbors=[2,3],\n",
    "    neighbor_weights=1.0,\n",
    "    fish_max_speeds=130,\n",
    "    clock_freqs=clock_freqs,\n",
    "    verbose=verbose\n",
    ")\n",
    "channel.set_nodes(fish)\n",
    "\n",
    "observer = Observer(fish=fish, environment=environment, channel=channel)\n",
    "\n",
    "missing_aircraft = Homing()\n",
    "for i in range(1, run_time): \n",
    "    observer.instruct(event=missing_aircraft, rel_clock=i, pos=arena_center, fish_all=True)\n",
    "    \n",
    "run_simulation_with_coverage(fish=fish, observer=observer, run_time=run_time, dark=False, white_axis=False, no_legend=True)\n",
    "\n"
   ]
  },
  {
   "cell_type": "markdown",
   "metadata": {},
   "source": [
    "## Prepare Data for Animation"
   ]
  },
  {
   "cell_type": "code",
   "execution_count": 56,
   "metadata": {
    "collapsed": true
   },
   "outputs": [],
   "source": [
    "# Get fish data from observer\n",
    "data = np.zeros((6, run_time, num_fish+2))\n",
    "data[0, :, :-2] = np.transpose(np.array(observer.x))\n",
    "data[1, :, :-2] = np.transpose(np.array(observer.y))\n",
    "data[2, :, :-2] = np.transpose(np.array(observer.z))\n",
    "data[3, :, :-2] = np.transpose(np.array(observer.vx))\n",
    "data[4, :, :-2] = np.transpose(np.array(observer.vy))\n",
    "data[5, :, :-2] = np.transpose(np.array(observer.vz))\n",
    "\n",
    "# Add center\n",
    "data[0, :, -2] = 1780/2\n",
    "data[1, :, -2] = 1780/2\n",
    "data[2, :, -2] = 1170/2+45\n",
    "data[3, :, -2] = 0\n",
    "data[4, :, -2] = 0\n",
    "data[5, :, -2] = -1\n",
    "data[0, :, -1] = 1780/2\n",
    "data[1, :, -1] = 1780/2\n",
    "data[2, :, -1] = 1170/2-45\n",
    "data[3, :, -1] = 0\n",
    "data[4, :, -1] = 0\n",
    "data[5, :, -1] = 1"
   ]
  },
  {
   "cell_type": "markdown",
   "metadata": {},
   "source": [
    "## Save Data"
   ]
  },
  {
   "cell_type": "code",
   "execution_count": 99,
   "metadata": {
    "collapsed": true
   },
   "outputs": [],
   "source": [
    "np.save('millingabout', data)"
   ]
  },
  {
   "cell_type": "markdown",
   "metadata": {
    "scrolled": true
   },
   "source": [
    "## Animate Simulated Data\n",
    "\n",
    "Change the speed-up factor of the animation in the variable `speed`."
   ]
  },
  {
   "cell_type": "code",
   "execution_count": null,
   "metadata": {
    "collapsed": true
   },
   "outputs": [],
   "source": [
    "# Imports\n",
    "import ipyvolume as ipv\n",
    "from ipyvolume.moviemaker import MovieMaker\n",
    "import ipywidgets as widgets\n",
    "import ipywebrtc as webrtc\n",
    "import matplotlib.cm as cm\n",
    "import time\n",
    "\n",
    "# Data handling\n",
    "x, y, z, vx, vy, vz = data\n",
    "speed = 10 # speed up animation 10 times\n",
    "\n",
    "# Colors\n",
    "v = np.sqrt(x**2 + y**2 + z**2)\n",
    "v -= v.min(); v /= v.max();\n",
    "colors = np.array([cm.Blues(k) for k in v])\n",
    "colors[:, -2:, :] = cm.Reds(0.5) # center is red\n",
    "\n",
    "# Figure\n",
    "fig = ipv.figure()\n",
    "ipv.xlim(0, 1780)\n",
    "ipv.ylim(0, 1780)\n",
    "ipv.zlim(0, 1170)\n",
    "ipv.style.use('dark')\n",
    "quiver = ipv.quiver(x, y, z, vx, vy, vz, size=10, color=colors[:,:,:3])\n",
    "ipv.animation_control(quiver, interval=1000/speed)\n",
    "ipv.show()"
   ]
  },
  {
   "cell_type": "markdown",
   "metadata": {},
   "source": [
    "## Save Animation as html"
   ]
  },
  {
   "cell_type": "code",
   "execution_count": 100,
   "metadata": {
    "collapsed": true
   },
   "outputs": [],
   "source": [
    "ipv.save('millingabout.html')\n",
    "!open 'millingabout.html'"
   ]
  }
 ],
 "metadata": {
  "kernelspec": {
   "display_name": "Python 3",
   "language": "python",
   "name": "python3"
  },
  "language_info": {
   "codemirror_mode": {
    "name": "ipython",
    "version": 3
   },
   "file_extension": ".py",
   "mimetype": "text/x-python",
   "name": "python",
   "nbconvert_exporter": "python",
   "pygments_lexer": "ipython3",
   "version": "3.6.2"
  }
 },
 "nbformat": 4,
 "nbformat_minor": 2
}
